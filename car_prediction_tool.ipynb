{
 "cells": [
  {
   "cell_type": "code",
   "execution_count": 105,
   "id": "89cadde5",
   "metadata": {},
   "outputs": [],
   "source": [
    "import pandas as pd\n",
    "import numpy as np\n",
    "import matplotlib.pyplot as plt\n",
    "from sklearn.model_selection import train_test_split\n",
    "import ipywidgets as widgets\n",
    "from IPython.display import display"
   ]
  },
  {
   "cell_type": "code",
   "execution_count": 106,
   "id": "2f71f425",
   "metadata": {},
   "outputs": [],
   "source": [
    "# imports the csv data \n",
    "car_data = pd.read_csv('merc.csv')"
   ]
  },
  {
   "cell_type": "markdown",
   "id": "ed9a5dfc",
   "metadata": {},
   "source": [
    "# Please select the vehicle features below and press \"Calculate Price\" for a predicted number"
   ]
  },
  {
   "cell_type": "code",
   "execution_count": 107,
   "id": "d57051ea",
   "metadata": {},
   "outputs": [
    {
     "data": {
      "application/vnd.jupyter.widget-view+json": {
       "model_id": "c4f9e179c242400a8b5fbe11d510f434",
       "version_major": 2,
       "version_minor": 0
      },
      "text/plain": [
       "Dropdown(description='Year:', options=('2020', '2019', '2018', '2017', '2016', '2015', '2014', '2013', '2012',…"
      ]
     },
     "metadata": {},
     "output_type": "display_data"
    }
   ],
   "source": [
    "# setting up the widget for user inputs\n",
    "year_selected = widgets.Dropdown(\n",
    "    options=['2020', '2019', '2018', '2017', '2016', '2015', '2014', '2013', '2012', '2011', '2010',\n",
    "       '2009', '2008', '2007', '2006', '2005', '2004', '2003', '2002', '2001', '2000', '1999',\n",
    "       '1998', '1997', '1970'],\n",
    "    value='2020',\n",
    "    description='Year:',\n",
    "    disabled=False,\n",
    ")\n",
    "year_selected"
   ]
  },
  {
   "cell_type": "code",
   "execution_count": 108,
   "id": "e07ad112",
   "metadata": {},
   "outputs": [
    {
     "data": {
      "application/vnd.jupyter.widget-view+json": {
       "model_id": "4304528064d346e9af21247feb5aba07",
       "version_major": 2,
       "version_minor": 0
      },
      "text/plain": [
       "Dropdown(description='Mileage:', options=('0', '5000', '10000', '15000', '20000', '25000', '30000', '40000', '…"
      ]
     },
     "metadata": {},
     "output_type": "display_data"
    }
   ],
   "source": [
    "mileage_selected = widgets.Dropdown(\n",
    "    options=['0', '5000', '10000', '15000', '20000', '25000', '30000', '40000', '50000', '60000', '70000', '80000', \n",
    "            '90000', '100000', '110000', '120000', '130000', '140000', '150000', '160000', '170000', '180000'],\n",
    "    value='0',\n",
    "    description='Mileage:',\n",
    "    disabled=False,\n",
    ")\n",
    "mileage_selected"
   ]
  },
  {
   "cell_type": "code",
   "execution_count": 109,
   "id": "fe356040",
   "metadata": {},
   "outputs": [
    {
     "data": {
      "application/vnd.jupyter.widget-view+json": {
       "model_id": "031df6aabcd34d8aa520e113393f0b3e",
       "version_major": 2,
       "version_minor": 0
      },
      "text/plain": [
       "Dropdown(description='Model: ', options=('GLS Class', 'GLC Class', 'C Class', 'GLA Class', 'A Class', 'E Class…"
      ]
     },
     "metadata": {},
     "output_type": "display_data"
    }
   ],
   "source": [
    "model_selected = widgets.Dropdown(\n",
    "    options=['GLS Class', 'GLC Class', 'C Class', 'GLA Class', 'A Class',\n",
    "       'E Class', 'B Class', 'GLE Class', 'CL Class', 'GLB Class',\n",
    "       'V Class', 'CLA Class', 'X-CLASS', 'G Class', 'SL CLASS',\n",
    "       'S Class', 'CLS Class', 'SLK', 'GL Class', '200', '220',\n",
    "       'M Class', '180', 'R Class', 'CLC Class', '230', 'CLK'],\n",
    "    value='GLS Class',\n",
    "    description='Model: ',\n",
    "    disabled=False,\n",
    ")\n",
    "model_selected"
   ]
  },
  {
   "cell_type": "code",
   "execution_count": 110,
   "id": "e0fa393f",
   "metadata": {},
   "outputs": [
    {
     "data": {
      "application/vnd.jupyter.widget-view+json": {
       "model_id": "e79ac22caff942d99b10cdae48754f7f",
       "version_major": 2,
       "version_minor": 0
      },
      "text/plain": [
       "Dropdown(description='Transmission:', options=('Semi-Auto', 'Automatic', 'Manual', 'Other'), value='Semi-Auto'…"
      ]
     },
     "metadata": {},
     "output_type": "display_data"
    }
   ],
   "source": [
    "transmission_selected = widgets.Dropdown(\n",
    "    options=['Semi-Auto', 'Automatic', 'Manual', 'Other'],\n",
    "    value='Semi-Auto',\n",
    "    description='Transmission:',\n",
    "    disabled=False,\n",
    ")\n",
    "transmission_selected"
   ]
  },
  {
   "cell_type": "code",
   "execution_count": 111,
   "id": "92cb9005",
   "metadata": {},
   "outputs": [
    {
     "data": {
      "application/vnd.jupyter.widget-view+json": {
       "model_id": "0d64631ce9c94089a117ce98406eb669",
       "version_major": 2,
       "version_minor": 0
      },
      "text/plain": [
       "Dropdown(description='Fuel Type:', options=('Diesel', 'Petrol', 'Hybrid', 'Other'), value='Diesel')"
      ]
     },
     "metadata": {},
     "output_type": "display_data"
    }
   ],
   "source": [
    "fuel_type_selected = widgets.Dropdown(\n",
    "    options=['Diesel', 'Petrol', 'Hybrid', 'Other'],\n",
    "    value='Diesel',\n",
    "    description='Fuel Type:',\n",
    "    disabled=False,\n",
    ")\n",
    "fuel_type_selected"
   ]
  },
  {
   "cell_type": "code",
   "execution_count": 112,
   "id": "e5069c80",
   "metadata": {},
   "outputs": [
    {
     "data": {
      "application/vnd.jupyter.widget-view+json": {
       "model_id": "b836b19568774b3881f7d8c4bec93595",
       "version_major": 2,
       "version_minor": 0
      },
      "text/plain": [
       "Dropdown(description='Tax:', index=39, options=('580', '570', '565', '555', '540', '520', '330', '325', '315',…"
      ]
     },
     "metadata": {},
     "output_type": "display_data"
    }
   ],
   "source": [
    "tax_selected = widgets.Dropdown(\n",
    "    options=['580', '570', '565', '555', '540', '520', '330', '325', '315', '305', '300', '290', '280', \n",
    "             '270', '265', '260', '255', '250', '240', '235', '230', '220', '210', '205', '200', '195',\n",
    "             '190', '185', '165', '160', '150', '145', '140', '135', '125', '115', '30', '20', '10',\n",
    "             '0'],\n",
    "    value='0',\n",
    "    description='Tax:',\n",
    "    disabled=False,\n",
    ")\n",
    "tax_selected"
   ]
  },
  {
   "cell_type": "code",
   "execution_count": 113,
   "id": "38af60ec",
   "metadata": {},
   "outputs": [
    {
     "data": {
      "application/vnd.jupyter.widget-view+json": {
       "model_id": "88f438a2e9fa41a6a9ff91034858a836",
       "version_major": 2,
       "version_minor": 0
      },
      "text/plain": [
       "Dropdown(description='MPG:', options=('5', '10', '15', '20', '25', '30', '35', '40', '45', '50', '55', '60'), …"
      ]
     },
     "metadata": {},
     "output_type": "display_data"
    }
   ],
   "source": [
    "mpg_selected = widgets.Dropdown(\n",
    "    options=['5','10','15', '20', '25', '30', '35', '40', '45', '50', '55', '60'],\n",
    "    value='5',\n",
    "    description='MPG:',\n",
    "    disabled=False,\n",
    ")\n",
    "mpg_selected"
   ]
  },
  {
   "cell_type": "code",
   "execution_count": 114,
   "id": "eb24d2dc",
   "metadata": {},
   "outputs": [
    {
     "data": {
      "application/vnd.jupyter.widget-view+json": {
       "model_id": "20c1f74156fc40d9bd787c5336118e55",
       "version_major": 2,
       "version_minor": 0
      },
      "text/plain": [
       "Dropdown(description='Engine Size:', index=25, options=('6.2', '6', '5.5', '5.4', '5', '4.7', '4.3', '4', '3.7…"
      ]
     },
     "metadata": {},
     "output_type": "display_data"
    }
   ],
   "source": [
    "engine_size_selected = widgets.Dropdown(\n",
    "    options=['6.2', '6', '5.5', '5.4', '5', '4.7', '4.3', '4', '3.7', '3.5', '3.2', '3', '2.9', \n",
    "             '2.7', '2.5', '2.3', '2.2', '2.1', '2', '1.8', '1.7', '1.6', '1.5', '1.4', '1.3', '0'],\n",
    "    value='0',\n",
    "    description='Engine Size:',\n",
    "    disabled=False,\n",
    ")\n",
    "engine_size_selected"
   ]
  },
  {
   "cell_type": "code",
   "execution_count": null,
   "id": "94c45817",
   "metadata": {},
   "outputs": [],
   "source": []
  },
  {
   "cell_type": "code",
   "execution_count": 115,
   "id": "815cfb37",
   "metadata": {},
   "outputs": [
    {
     "data": {
      "application/vnd.jupyter.widget-view+json": {
       "model_id": "80c6e7d8a4e344aab2c3c380791ba373",
       "version_major": 2,
       "version_minor": 0
      },
      "text/plain": [
       "Button(description='Calculate Price!', style=ButtonStyle())"
      ]
     },
     "metadata": {},
     "output_type": "display_data"
    },
    {
     "data": {
      "application/vnd.jupyter.widget-view+json": {
       "model_id": "0831623311dd48b0b99c726abd893de1",
       "version_major": 2,
       "version_minor": 0
      },
      "text/plain": [
       "Output()"
      ]
     },
     "metadata": {},
     "output_type": "display_data"
    }
   ],
   "source": [
    "output = widgets.Output()\n",
    "\n",
    "# function that formats the number to dollars\n",
    "def to_dollars(value):\n",
    "    return \"${:,.2f}\".format(value)\n",
    "\n",
    "\n",
    "# event handler calls the function that predicts the price \n",
    "def handle_click(_button):\n",
    "    \n",
    "    output.clear_output()\n",
    "    price_predicted = get_price()\n",
    "  \n",
    "    # \n",
    "    with output:\n",
    "         \n",
    "        display(f\"Price predicted for a {year_selected.value} {model_selected.value} \"\n",
    "                f\"with {mileage_selected.value} miles, {mpg_selected.value} mpg, a tax of {tax_selected.value}, \"\n",
    "                f\"an engine size of {engine_size_selected.value}, a fuel type of {fuel_type_selected.value}, \"\n",
    "                f\"and a {transmission_selected.value} transmission is: \",to_dollars(price_predicted))\n",
    "\n",
    "    return output\n",
    "    \n",
    "\n",
    "# calculate button\n",
    "button = widgets.Button(\n",
    "    description='Calculate Price!',\n",
    "    disabled=False,\n",
    ")\n",
    "\n",
    "# event handler \n",
    "button.on_click(handle_click)\n",
    "\n",
    "display(button, output)\n"
   ]
  },
  {
   "cell_type": "code",
   "execution_count": null,
   "id": "8b433233",
   "metadata": {},
   "outputs": [],
   "source": []
  },
  {
   "cell_type": "markdown",
   "id": "ac06ed50",
   "metadata": {},
   "source": [
    "# Descriptive Visualizations for Dataset "
   ]
  },
  {
   "cell_type": "markdown",
   "id": "4713cea9",
   "metadata": {},
   "source": [
    "## Dataset structure overview"
   ]
  },
  {
   "cell_type": "code",
   "execution_count": null,
   "id": "8b0660ab",
   "metadata": {},
   "outputs": [],
   "source": []
  },
  {
   "cell_type": "code",
   "execution_count": 116,
   "id": "330f2c2b",
   "metadata": {},
   "outputs": [],
   "source": [
    "# function that strips the whitespace from the right and left side of any strings \n",
    "def strip_spaces(data_frame):\n",
    "    return data_frame.apply(lambda x: x.str.strip() if x.dtype == \"object\" else x)\n",
    "\n",
    "car_data = strip_spaces(car_data)"
   ]
  },
  {
   "cell_type": "code",
   "execution_count": 117,
   "id": "fcab73c4",
   "metadata": {},
   "outputs": [
    {
     "data": {
      "text/html": [
       "<div>\n",
       "<style scoped>\n",
       "    .dataframe tbody tr th:only-of-type {\n",
       "        vertical-align: middle;\n",
       "    }\n",
       "\n",
       "    .dataframe tbody tr th {\n",
       "        vertical-align: top;\n",
       "    }\n",
       "\n",
       "    .dataframe thead th {\n",
       "        text-align: right;\n",
       "    }\n",
       "</style>\n",
       "<table border=\"1\" class=\"dataframe\">\n",
       "  <thead>\n",
       "    <tr style=\"text-align: right;\">\n",
       "      <th></th>\n",
       "      <th>model</th>\n",
       "      <th>year</th>\n",
       "      <th>price</th>\n",
       "      <th>transmission</th>\n",
       "      <th>mileage</th>\n",
       "      <th>fuelType</th>\n",
       "      <th>tax</th>\n",
       "      <th>mpg</th>\n",
       "      <th>engineSize</th>\n",
       "    </tr>\n",
       "  </thead>\n",
       "  <tbody>\n",
       "    <tr>\n",
       "      <th>0</th>\n",
       "      <td>SLK</td>\n",
       "      <td>2005</td>\n",
       "      <td>5200</td>\n",
       "      <td>Automatic</td>\n",
       "      <td>63000</td>\n",
       "      <td>Petrol</td>\n",
       "      <td>325</td>\n",
       "      <td>32.1</td>\n",
       "      <td>1.8</td>\n",
       "    </tr>\n",
       "    <tr>\n",
       "      <th>1</th>\n",
       "      <td>S Class</td>\n",
       "      <td>2017</td>\n",
       "      <td>34948</td>\n",
       "      <td>Automatic</td>\n",
       "      <td>27000</td>\n",
       "      <td>Hybrid</td>\n",
       "      <td>20</td>\n",
       "      <td>61.4</td>\n",
       "      <td>2.1</td>\n",
       "    </tr>\n",
       "    <tr>\n",
       "      <th>2</th>\n",
       "      <td>SL CLASS</td>\n",
       "      <td>2016</td>\n",
       "      <td>49948</td>\n",
       "      <td>Automatic</td>\n",
       "      <td>6200</td>\n",
       "      <td>Petrol</td>\n",
       "      <td>555</td>\n",
       "      <td>28.0</td>\n",
       "      <td>5.5</td>\n",
       "    </tr>\n",
       "    <tr>\n",
       "      <th>3</th>\n",
       "      <td>G Class</td>\n",
       "      <td>2016</td>\n",
       "      <td>61948</td>\n",
       "      <td>Automatic</td>\n",
       "      <td>16000</td>\n",
       "      <td>Petrol</td>\n",
       "      <td>325</td>\n",
       "      <td>30.4</td>\n",
       "      <td>4.0</td>\n",
       "    </tr>\n",
       "    <tr>\n",
       "      <th>4</th>\n",
       "      <td>G Class</td>\n",
       "      <td>2016</td>\n",
       "      <td>73948</td>\n",
       "      <td>Automatic</td>\n",
       "      <td>4000</td>\n",
       "      <td>Petrol</td>\n",
       "      <td>325</td>\n",
       "      <td>30.1</td>\n",
       "      <td>4.0</td>\n",
       "    </tr>\n",
       "  </tbody>\n",
       "</table>\n",
       "</div>"
      ],
      "text/plain": [
       "      model  year  price transmission  mileage fuelType  tax   mpg  engineSize\n",
       "0       SLK  2005   5200    Automatic    63000   Petrol  325  32.1         1.8\n",
       "1   S Class  2017  34948    Automatic    27000   Hybrid   20  61.4         2.1\n",
       "2  SL CLASS  2016  49948    Automatic     6200   Petrol  555  28.0         5.5\n",
       "3   G Class  2016  61948    Automatic    16000   Petrol  325  30.4         4.0\n",
       "4   G Class  2016  73948    Automatic     4000   Petrol  325  30.1         4.0"
      ]
     },
     "execution_count": 117,
     "metadata": {},
     "output_type": "execute_result"
    }
   ],
   "source": [
    "car_data.head()"
   ]
  },
  {
   "cell_type": "code",
   "execution_count": 118,
   "id": "465b80ff",
   "metadata": {},
   "outputs": [
    {
     "name": "stdout",
     "output_type": "stream",
     "text": [
      "<class 'pandas.core.frame.DataFrame'>\n",
      "RangeIndex: 13119 entries, 0 to 13118\n",
      "Data columns (total 9 columns):\n",
      " #   Column        Non-Null Count  Dtype  \n",
      "---  ------        --------------  -----  \n",
      " 0   model         13119 non-null  object \n",
      " 1   year          13119 non-null  int64  \n",
      " 2   price         13119 non-null  int64  \n",
      " 3   transmission  13119 non-null  object \n",
      " 4   mileage       13119 non-null  int64  \n",
      " 5   fuelType      13119 non-null  object \n",
      " 6   tax           13119 non-null  int64  \n",
      " 7   mpg           13119 non-null  float64\n",
      " 8   engineSize    13119 non-null  float64\n",
      "dtypes: float64(2), int64(4), object(3)\n",
      "memory usage: 922.6+ KB\n"
     ]
    }
   ],
   "source": [
    "\n",
    "#there are no missing info \n",
    "car_data.info()"
   ]
  },
  {
   "cell_type": "markdown",
   "id": "ca3e4580",
   "metadata": {},
   "source": [
    "## Price Distribution Per Model Description"
   ]
  },
  {
   "cell_type": "code",
   "execution_count": 119,
   "id": "91817dbf",
   "metadata": {},
   "outputs": [
    {
     "data": {
      "image/png": "[encoded data removed]",
      "text/plain": [
       "<Figure size 576x576 with 1 Axes>"
      ]
     },
     "metadata": {
      "needs_background": "light"
     },
     "output_type": "display_data"
    }
   ],
   "source": [
    "# viewing the relationship between the models and prices of the vehicles \n",
    "from matplotlib.pyplot import figure\n",
    "car_data.plot(x=\"price\", y=\"model\", kind=\"scatter\");\n",
    "\n",
    "plt.rcParams[\"figure.figsize\"] = (8,8)"
   ]
  },
  {
   "cell_type": "markdown",
   "id": "50033268",
   "metadata": {},
   "source": [
    "## Mileage Based On Price Description"
   ]
  },
  {
   "cell_type": "code",
   "execution_count": 120,
   "id": "6f11955b",
   "metadata": {},
   "outputs": [
    {
     "data": {
      "image/png": "[encoded data removed]",
      "text/plain": [
       "<Figure size 576x576 with 1 Axes>"
      ]
     },
     "metadata": {
      "needs_background": "light"
     },
     "output_type": "display_data"
    }
   ],
   "source": [
    "# viewing the relationship between the miles and the prices of the vehicles \n",
    "car_data[\"price\"] = car_data[\"price\"]\n",
    "car_data.plot(x=\"price\", y=\"mileage\", kind='scatter');"
   ]
  },
  {
   "cell_type": "markdown",
   "id": "c86d7898",
   "metadata": {},
   "source": [
    "## Different Model Distribution Description"
   ]
  },
  {
   "cell_type": "code",
   "execution_count": 121,
   "id": "ccc6b412",
   "metadata": {},
   "outputs": [
    {
     "data": {
      "image/png": "[encoded data removed]",
      "text/plain": [
       "<Figure size 576x576 with 1 Axes>"
      ]
     },
     "metadata": {
      "needs_background": "light"
     },
     "output_type": "display_data"
    }
   ],
   "source": [
    "# viewing the distribution between the models \n",
    "car_data['model'].value_counts().plot(kind='bar');"
   ]
  },
  {
   "cell_type": "markdown",
   "id": "4cef99c3",
   "metadata": {},
   "source": [
    "## Year Of Make Distributuion "
   ]
  },
  {
   "cell_type": "code",
   "execution_count": 122,
   "id": "61567126",
   "metadata": {},
   "outputs": [
    {
     "data": {
      "image/png": "[encoded data removed]",
      "text/plain": [
       "<Figure size 576x576 with 1 Axes>"
      ]
     },
     "metadata": {
      "needs_background": "light"
     },
     "output_type": "display_data"
    }
   ],
   "source": [
    "#viwing the distribution between the different years of the vehicles \n",
    "car_data['year'].value_counts().plot(kind='bar');"
   ]
  },
  {
   "cell_type": "code",
   "execution_count": 123,
   "id": "4dcd100b",
   "metadata": {},
   "outputs": [],
   "source": [
    "# Turning categorical data into numerical data using pandas get_dummies\n",
    "df = pd.get_dummies(car_data)"
   ]
  },
  {
   "cell_type": "code",
   "execution_count": 124,
   "id": "ee3f95cb",
   "metadata": {},
   "outputs": [],
   "source": [
    "# Here I am sperating the data into X and Y fields and turning it into an Array\n",
    "Y = np.array(df['price'])\n",
    "X = df.drop('price', axis = 1)\n",
    "X = np.array(X)"
   ]
  },
  {
   "cell_type": "code",
   "execution_count": 125,
   "id": "e0a6f63d",
   "metadata": {},
   "outputs": [],
   "source": [
    "from sklearn.ensemble import RandomForestRegressor"
   ]
  },
  {
   "cell_type": "markdown",
   "id": "60677ded",
   "metadata": {},
   "source": [
    "# Random Forest Regregressor R2 Score"
   ]
  },
  {
   "cell_type": "code",
   "execution_count": 126,
   "id": "b0d468e8",
   "metadata": {},
   "outputs": [
    {
     "data": {
      "text/plain": [
       "RandomForestRegressor(n_estimators=1000, random_state=42)"
      ]
     },
     "execution_count": 126,
     "metadata": {},
     "output_type": "execute_result"
    }
   ],
   "source": [
    "# splitting my data into training and testing \n",
    "X_train, X_test, Y_train, Y_test = train_test_split(X,\n",
    "                                                    Y, \n",
    "                                                    test_size=0.2, random_state=42)\n",
    "\n",
    "# finally, fitting the data into the model \n",
    "price_model = RandomForestRegressor(n_estimators = 1000, random_state = 42)\n",
    "price_model.fit(X_train, Y_train)"
   ]
  },
  {
   "cell_type": "code",
   "execution_count": 127,
   "id": "f64e38bc",
   "metadata": {},
   "outputs": [
    {
     "name": "stdout",
     "output_type": "stream",
     "text": [
      "R2 score: 94.6 %\n"
     ]
    }
   ],
   "source": [
    "# getting the R2 score of the model\n",
    "from sklearn.metrics import r2_score\n",
    "from sklearn.metrics import accuracy_score\n",
    "y_pred = price_model.predict(X_test)\n",
    "print(f\"R2 score: {round(r2_score(Y_test, y_pred) * 100, 1)} %\")"
   ]
  },
  {
   "cell_type": "code",
   "execution_count": 128,
   "id": "03b02c03",
   "metadata": {},
   "outputs": [],
   "source": [
    "# function that uses the user values to predict a price \n",
    "def get_price() : \n",
    "    # puts the user selected values into a dictionary \n",
    "    d = {'model': [model_selected.value],'year': [year_selected.value],'transmission': [transmission_selected.value],\n",
    "         'mileage': [mileage_selected.value], 'fuelType': [fuel_type_selected.value],'tax': [tax_selected.value],\n",
    "         'mpg' : [mpg_selected.value], 'engineSize': [engine_size_selected.value]}\n",
    "    # turns the dictionary into a dataframe \n",
    "    idf = pd.DataFrame(data=d)\n",
    "\n",
    "    # turns all the categorical data into number variables \n",
    "    dummies_input = pd.get_dummies(idf)\n",
    "\n",
    "    # combines the columns from the df and the dummies_input and puts NAN values in place\n",
    "    # only the user selected values will be availble for the model \n",
    "    df_newdata = dummies_input.reindex(labels=df.columns,axis=1)\n",
    "\n",
    "    # replaces all the NAN values with 0\n",
    "    df_newdata.fillna(0, inplace=True)\n",
    "    \n",
    "    #drops the price feature \n",
    "    df_newdata.drop('price', axis=1, inplace=True)\n",
    "\n",
    "    # converts the df_newdata into an array\n",
    "    df_newdata_array = np.array(df_newdata)\n",
    "    \n",
    "    # predicts the price based on the user selected values \n",
    "    price_predicted = price_model.predict(df_newdata_array)\n",
    "    return price_predicted[0]"
   ]
  },
  {
   "cell_type": "code",
   "execution_count": null,
   "id": "c9b89090",
   "metadata": {},
   "outputs": [],
   "source": []
  }
 ],
 "metadata": {
  "kernelspec": {
   "display_name": "Python 3 (ipykernel)",
   "language": "python",
   "name": "python3"
  },
  "language_info": {
   "codemirror_mode": {
    "name": "ipython",
    "version": 3
   },
   "file_extension": ".py",
   "mimetype": "text/x-python",
   "name": "python",
   "nbconvert_exporter": "python",
   "pygments_lexer": "ipython3",
   "version": "3.9.7"
  }
 },
 "nbformat": 4,
 "nbformat_minor": 5
}
